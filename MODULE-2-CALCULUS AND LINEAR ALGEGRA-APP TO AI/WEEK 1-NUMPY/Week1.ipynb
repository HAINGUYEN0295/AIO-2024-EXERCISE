{
 "cells": [
  {
   "cell_type": "markdown",
   "id": "3a9a74db",
   "metadata": {},
   "source": [
    "## Basic Numpy"
   ]
  },
  {
   "cell_type": "code",
   "execution_count": 1,
   "id": "initial_id",
   "metadata": {
    "ExecuteTime": {
     "end_time": "2024-07-09T10:46:49.354420Z",
     "start_time": "2024-07-09T10:46:49.273897Z"
    },
    "collapsed": true
   },
   "outputs": [
    {
     "name": "stdout",
     "output_type": "stream",
     "text": [
      "[0 1 2 3 4 5 6 7 8 9]\n"
     ]
    }
   ],
   "source": [
    "import numpy as np\n",
    "\n",
    "arr = np.arange(0, 10, 1)\n",
    "print(arr)"
   ]
  },
  {
   "cell_type": "code",
   "execution_count": 2,
   "id": "ecef5ab6a045a47a",
   "metadata": {
    "ExecuteTime": {
     "end_time": "2024-07-09T11:30:16.656196Z",
     "start_time": "2024-07-09T11:30:16.652473Z"
    }
   },
   "outputs": [
    {
     "name": "stdout",
     "output_type": "stream",
     "text": [
      "[[ True  True  True]\n",
      " [ True  True  True]\n",
      " [ True  True  True]]\n"
     ]
    }
   ],
   "source": [
    "arr = np.full((3, 3), fill_value=True, dtype=bool)\n",
    "print(arr)"
   ]
  },
  {
   "cell_type": "code",
   "execution_count": 3,
   "id": "60b21bc59f204ab9",
   "metadata": {
    "ExecuteTime": {
     "end_time": "2024-07-09T11:32:14.976502Z",
     "start_time": "2024-07-09T11:32:14.973278Z"
    }
   },
   "outputs": [
    {
     "name": "stdout",
     "output_type": "stream",
     "text": [
      "[1 3 5 7 9]\n"
     ]
    }
   ],
   "source": [
    "arr = np.arange(0, 10)\n",
    "print(arr[arr % 2 == 1])"
   ]
  },
  {
   "cell_type": "code",
   "execution_count": 4,
   "id": "eb3ab68531b05b7f",
   "metadata": {
    "ExecuteTime": {
     "end_time": "2024-07-09T11:33:32.166922Z",
     "start_time": "2024-07-09T11:33:32.164029Z"
    }
   },
   "outputs": [
    {
     "name": "stdout",
     "output_type": "stream",
     "text": [
      "[ 0 -1  2 -1  4 -1  6 -1  8 -1]\n"
     ]
    }
   ],
   "source": [
    "arr = np.arange(0, 10)\n",
    "arr[arr % 2 == 1] = -1\n",
    "print(arr)"
   ]
  },
  {
   "cell_type": "code",
   "execution_count": 5,
   "id": "5a2f0ed704cd50e3",
   "metadata": {
    "ExecuteTime": {
     "end_time": "2024-07-09T11:36:08.851718Z",
     "start_time": "2024-07-09T11:36:08.848686Z"
    }
   },
   "outputs": [
    {
     "name": "stdout",
     "output_type": "stream",
     "text": [
      "[[0 1 2 3 4]\n",
      " [5 6 7 8 9]]\n"
     ]
    }
   ],
   "source": [
    "arr = np.arange(10)\n",
    "arr_2d = arr.reshape(2, -1)\n",
    "print(arr_2d)"
   ]
  },
  {
   "cell_type": "code",
   "execution_count": 6,
   "id": "7b0fb66900f822f3",
   "metadata": {
    "ExecuteTime": {
     "end_time": "2024-07-09T12:40:52.652463Z",
     "start_time": "2024-07-09T12:40:52.648909Z"
    }
   },
   "outputs": [
    {
     "name": "stdout",
     "output_type": "stream",
     "text": [
      "[[0 1 2 3 4]\n",
      " [5 6 7 8 9]\n",
      " [1 1 1 1 1]\n",
      " [1 1 1 1 1]]\n"
     ]
    }
   ],
   "source": [
    "arr1 = np.arange(10).reshape(2, -1)\n",
    "arr2 = np.repeat(1, 10).reshape(2, -1)\n",
    "c = np.concatenate([arr1, arr2], axis=0)\n",
    "print(c)"
   ]
  },
  {
   "cell_type": "code",
   "execution_count": 7,
   "id": "48240d7b2f271c01",
   "metadata": {
    "ExecuteTime": {
     "end_time": "2024-07-09T12:46:45.759025Z",
     "start_time": "2024-07-09T12:46:45.756549Z"
    }
   },
   "outputs": [
    {
     "name": "stdout",
     "output_type": "stream",
     "text": [
      "[[0 1 2 3 4 1 1 1 1 1]\n",
      " [5 6 7 8 9 1 1 1 1 1]]\n"
     ]
    }
   ],
   "source": [
    "arr1 = np.arange(10).reshape(2, -1)\n",
    "arr2 = np.repeat(1, 10).reshape(2, -1)\n",
    "c = np.concatenate([arr1, arr2], axis=1)\n",
    "print(c)"
   ]
  },
  {
   "cell_type": "code",
   "execution_count": 8,
   "id": "6418dd0deed0d17e",
   "metadata": {
    "ExecuteTime": {
     "end_time": "2024-07-09T12:59:16.553637Z",
     "start_time": "2024-07-09T12:59:16.551319Z"
    }
   },
   "outputs": [
    {
     "name": "stdout",
     "output_type": "stream",
     "text": [
      "[1 1 1 2 2 2 3 3 3]\n",
      "[1 2 3 1 2 3 1 2 3]\n"
     ]
    }
   ],
   "source": [
    "arr = np.array([1, 2, 3])\n",
    "print(np.repeat(arr, 3))\n",
    "print(np.tile(arr, 3))"
   ]
  },
  {
   "cell_type": "code",
   "execution_count": 9,
   "id": "42da0fb5fe26ec88",
   "metadata": {
    "ExecuteTime": {
     "end_time": "2024-07-09T13:09:27.699833Z",
     "start_time": "2024-07-09T13:09:27.697290Z"
    }
   },
   "outputs": [
    {
     "name": "stdout",
     "output_type": "stream",
     "text": [
      "[6. 7. 9. 8. 9. 7. 5.]\n"
     ]
    }
   ],
   "source": [
    "import numpy as np\n",
    "\n",
    "\n",
    "def maxx(x, y):\n",
    "    if x >= y:\n",
    "        return x\n",
    "    else:\n",
    "        return y\n",
    "\n",
    "\n",
    "a = np.array([5, 7, 9, 8, 6, 4, 5])\n",
    "b = np.array([6, 3, 4, 8, 9, 7, 1])\n",
    "\n",
    "pair_max = np.vectorize(maxx, otypes=[float])\n",
    "print(pair_max(a, b))"
   ]
  },
  {
   "cell_type": "code",
   "execution_count": 10,
   "id": "2f25ff442ba9cdbc",
   "metadata": {
    "ExecuteTime": {
     "end_time": "2024-07-09T13:17:36.076080Z",
     "start_time": "2024-07-09T13:17:36.073537Z"
    }
   },
   "outputs": [
    {
     "name": "stdout",
     "output_type": "stream",
     "text": [
      "Result [6 7 9 8 9 7 5]\n"
     ]
    }
   ],
   "source": [
    "a = np.array([5,7,9,8,6,4,5])\n",
    "b = np.array([6,3,4,8,9,7,1])\n",
    "\n",
    "print(\"Result\", np.where(a<b,b,a))"
   ]
  },
  {
   "cell_type": "markdown",
   "id": "afff1865",
   "metadata": {},
   "source": [
    "## Image Processing"
   ]
  },
  {
   "cell_type": "code",
   "execution_count": 12,
   "id": "9f12940102b23220",
   "metadata": {
    "ExecuteTime": {
     "end_time": "2024-07-09T14:17:07.561478Z",
     "start_time": "2024-07-09T14:17:07.546304Z"
    }
   },
   "outputs": [
    {
     "data": {
      "text/plain": [
       "102.5"
      ]
     },
     "execution_count": 12,
     "metadata": {},
     "output_type": "execute_result"
    }
   ],
   "source": [
    "import matplotlib.image as mpimg\n",
    "img = mpimg.imread(\"dog.jpeg\")\n",
    "gray_img = (np.max(img[:, :, :3], axis=2) + np.min(img[:, :, :3], axis=2)) / 2\n",
    "gray_img[0, 0]"
   ]
  },
  {
   "cell_type": "code",
   "execution_count": 13,
   "id": "bd2c873a0c634908",
   "metadata": {
    "ExecuteTime": {
     "end_time": "2024-07-13T12:19:04.434393Z",
     "start_time": "2024-07-13T12:18:59.468137Z"
    }
   },
   "outputs": [
    {
     "data": {
      "text/plain": [
       "107.66666666666667"
      ]
     },
     "execution_count": 13,
     "metadata": {},
     "output_type": "execute_result"
    }
   ],
   "source": [
    "import matplotlib.image as mpimg\n",
    "img = mpimg.imread(\"dog.jpeg\")\n",
    "gray_img_02 = (np.average(img[:, :, :3], axis=2))\n",
    "gray_img_02[0, 0]"
   ]
  },
  {
   "cell_type": "code",
   "execution_count": 14,
   "id": "ed4d39bc13585d45",
   "metadata": {
    "ExecuteTime": {
     "end_time": "2024-07-13T12:27:06.770196Z",
     "start_time": "2024-07-13T12:27:01.625884Z"
    }
   },
   "outputs": [
    {
     "data": {
      "text/plain": [
       "126.22999999999999"
      ]
     },
     "execution_count": 14,
     "metadata": {},
     "output_type": "execute_result"
    }
   ],
   "source": [
    "\n",
    "import matplotlib.image as mpimg\n",
    "img = mpimg.imread(\"dog.jpeg\")\n",
    "gray_img_03 = (np.dot(img[:, :, :3], [0.21, 0.72, 0.07]))\n",
    "gray_img_03[0, 0]"
   ]
  },
  {
   "cell_type": "markdown",
   "id": "68808528",
   "metadata": {},
   "source": [
    "## Phân tích dữ liệu dạng bảng"
   ]
  },
  {
   "cell_type": "code",
   "execution_count": 15,
   "id": "6463710e351564b2",
   "metadata": {
    "ExecuteTime": {
     "end_time": "2024-07-13T13:13:18.790200Z",
     "start_time": "2024-07-13T13:13:08.801660Z"
    }
   },
   "outputs": [],
   "source": [
    "\n",
    "import pandas as pd\n",
    "df = pd.read_csv(\"advertising.csv\")\n",
    "data = df.to_numpy()"
   ]
  },
  {
   "cell_type": "code",
   "execution_count": 16,
   "id": "b6dce54454ff2a6",
   "metadata": {
    "ExecuteTime": {
     "end_time": "2024-07-13T12:36:20.577665Z",
     "start_time": "2024-07-13T12:36:20.574009Z"
    }
   },
   "outputs": [
    {
     "name": "stdout",
     "output_type": "stream",
     "text": [
      "27.0\n",
      "175\n"
     ]
    }
   ],
   "source": [
    "# select 3rd column\n",
    "max = np.max(data[:, 3])\n",
    "print(max)\n",
    "# get max index\n",
    "max_index = np.argmax(data[:, 3])\n",
    "print(max_index)"
   ]
  },
  {
   "cell_type": "code",
   "execution_count": 17,
   "id": "f160431817d69c70",
   "metadata": {
    "ExecuteTime": {
     "end_time": "2024-07-13T12:36:48.580629Z",
     "start_time": "2024-07-13T12:36:48.578048Z"
    }
   },
   "outputs": [
    {
     "data": {
      "text/plain": [
       "147.0425"
      ]
     },
     "execution_count": 17,
     "metadata": {},
     "output_type": "execute_result"
    }
   ],
   "source": [
    "np.average(data[:, 0])"
   ]
  },
  {
   "cell_type": "code",
   "execution_count": 18,
   "id": "ca6dab995bcd61ee",
   "metadata": {
    "ExecuteTime": {
     "end_time": "2024-07-13T12:39:08.007835Z",
     "start_time": "2024-07-13T12:39:08.004199Z"
    }
   },
   "outputs": [
    {
     "data": {
      "text/plain": [
       "40"
      ]
     },
     "execution_count": 18,
     "metadata": {},
     "output_type": "execute_result"
    }
   ],
   "source": [
    "np.size(np.where(data[:, 3] >= 20))"
   ]
  },
  {
   "cell_type": "code",
   "execution_count": 19,
   "id": "c866848ef22d10c8",
   "metadata": {
    "ExecuteTime": {
     "end_time": "2024-07-13T12:45:20.931608Z",
     "start_time": "2024-07-13T12:45:20.921492Z"
    }
   },
   "outputs": [
    {
     "name": "stdout",
     "output_type": "stream",
     "text": [
      "[26.22293578]\n"
     ]
    }
   ],
   "source": [
    "index_list = np.argwhere(data[:, 3] >= 15)\n",
    "sum = 0\n",
    "for i in index_list:\n",
    "    sum += data[i, 1]\n",
    "average = sum / np.size(index_list)\n",
    "print(average)"
   ]
  },
  {
   "cell_type": "code",
   "execution_count": 60,
   "id": "d30a9420bb9f3788",
   "metadata": {
    "ExecuteTime": {
     "end_time": "2024-07-13T12:55:14.470748Z",
     "start_time": "2024-07-13T12:55:14.467675Z"
    }
   },
   "outputs": [
    {
     "data": {
      "text/plain": [
       "1405.1000000000004"
      ]
     },
     "execution_count": 60,
     "metadata": {},
     "output_type": "execute_result"
    }
   ],
   "source": [
    "newspaper_avg = np.average(data[:, 2])\n",
    "sum = 0\n",
    "for i in range(np.size(data, 0)):\n",
    "    if data[i, 2] > newspaper_avg:\n",
    "       sum += data[i, 3]\n",
    "sum"
   ]
  },
  {
   "cell_type": "code",
   "execution_count": 76,
   "id": "2f8dd49f2b135f26",
   "metadata": {
    "ExecuteTime": {
     "end_time": "2024-07-13T13:13:24.138527Z",
     "start_time": "2024-07-13T13:13:24.125629Z"
    }
   },
   "outputs": [
    {
     "name": "stdout",
     "output_type": "stream",
     "text": [
      "15.130500000000001\n"
     ]
    },
    {
     "data": {
      "text/plain": [
       "['Bad', 'Bad', 'Good']"
      ]
     },
     "execution_count": 76,
     "metadata": {},
     "output_type": "execute_result"
    }
   ],
   "source": [
    "# fill by condition\n",
    "sales_avg = np.average(data[:, 3])\n",
    "print(sales_avg)\n",
    "arr = data[:, 3]\n",
    "new_arr = []\n",
    "for i in range(np.size(arr)):\n",
    "    if arr[i] > sales_avg:\n",
    "        new_arr.append('Good')\n",
    "    elif arr[i] < sales_avg:\n",
    "        new_arr.append('Bad')\n",
    "    else:\n",
    "        new_arr.append('Average')\n",
    "new_arr[7:10]"
   ]
  },
  {
   "cell_type": "code",
   "execution_count": 74,
   "id": "70a77ab4a3ab0d2c",
   "metadata": {
    "ExecuteTime": {
     "end_time": "2024-07-13T13:12:13.457542Z",
     "start_time": "2024-07-13T13:12:13.453848Z"
    }
   },
   "outputs": [
    {
     "name": "stdout",
     "output_type": "stream",
     "text": [
      "15.130500000000001\n",
      "['Bad', 'Bad', 'Good']\n"
     ]
    }
   ],
   "source": [
    "import pandas as pd\n",
    "\n",
    "# Đọc dữ liệu từ file CSV\n",
    "df = pd.read_csv('advertising.csv')\n",
    "\n",
    "# Chuyển đổi dữ liệu thành mảng numpy\n",
    "data = df.to_numpy()\n",
    "\n",
    "# Tính giá trị trung bình của cột Sales\n",
    "mean_sales = data[:, 3].mean()\n",
    "# Tạo mảng scores\n",
    "scores = []\n",
    "\n",
    "for sale in data[:, 3]:\n",
    "    if sale > mean_sales:\n",
    "        scores.append('Good')\n",
    "    elif sale < mean_sales:\n",
    "        scores.append('Bad')\n",
    "    else:\n",
    "        scores.append('Average')\n",
    "\n",
    "# In ra kết quả scores[7:10]\n",
    "print(scores[7:10])\n"
   ]
  },
  {
   "cell_type": "code",
   "execution_count": null,
   "id": "cca3c950677795eb",
   "metadata": {},
   "outputs": [],
   "source": []
  }
 ],
 "metadata": {
  "kernelspec": {
   "display_name": "Python 3",
   "language": "python",
   "name": "python3"
  },
  "language_info": {
   "codemirror_mode": {
    "name": "ipython",
    "version": 3
   },
   "file_extension": ".py",
   "mimetype": "text/x-python",
   "name": "python",
   "nbconvert_exporter": "python",
   "pygments_lexer": "ipython3",
   "version": "3.12.3"
  }
 },
 "nbformat": 4,
 "nbformat_minor": 5
}
